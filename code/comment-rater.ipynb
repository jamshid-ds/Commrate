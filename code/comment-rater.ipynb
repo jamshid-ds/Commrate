{
 "cells": [
  {
   "cell_type": "markdown",
   "id": "2effeaae",
   "metadata": {
    "id": "CNBt70zcAev0",
    "papermill": {
     "duration": 0.006999,
     "end_time": "2024-04-21T15:09:49.466424",
     "exception": false,
     "start_time": "2024-04-21T15:09:49.459425",
     "status": "completed"
    },
    "tags": []
   },
   "source": [
    "#DOCUMENTATION"
   ]
  },
  {
   "cell_type": "code",
   "execution_count": 1,
   "id": "aeebb676",
   "metadata": {
    "execution": {
     "iopub.execute_input": "2024-04-21T15:09:49.481388Z",
     "iopub.status.busy": "2024-04-21T15:09:49.480767Z",
     "iopub.status.idle": "2024-04-21T15:09:49.495411Z",
     "shell.execute_reply": "2024-04-21T15:09:49.494543Z"
    },
    "id": "qREQire0ASMB",
    "outputId": "7b7de37f-9eb0-4393-d20f-47aaf052aef7",
    "papermill": {
     "duration": 0.024547,
     "end_time": "2024-04-21T15:09:49.497382",
     "exception": false,
     "start_time": "2024-04-21T15:09:49.472835",
     "status": "completed"
    },
    "tags": []
   },
   "outputs": [
    {
     "data": {
      "text/plain": [
       "'\\nThis Python script performs the following tasks:\\n\\n1. Imports necessary libraries for data manipulation, feature extraction, model training, and evaluation.\\n2. Reads a CSV file named \"train.csv\" and selects two columns: \\'comment\\' and \\'reting\\'.\\n3. Renames the \\'reting\\' column to \\'rating\\'.\\n4. Converts the \\'rating\\' column to numeric values and filters the DataFrame to only include rows with ratings between 1.0 and 5.0.\\n5. Groups the DataFrame by \\'rating\\' and randomly samples an equal number of rows from each group to ensure balanced classes.\\n6. Preprocesses the \\'comment\\' column by converting it to lowercase and removing punctuation and non-alphabetic characters.\\n7. Splits the preprocessed data into training and testing sets using a 90/10 split.\\n8. Trains a LightGBM classifier model on the training data.\\n9. Evaluates the model\\'s accuracy on the testing data.\\n10. Creates and displays a confusion matrix to visualize the model\\'s performance on each class.\\n'"
      ]
     },
     "execution_count": 1,
     "metadata": {},
     "output_type": "execute_result"
    }
   ],
   "source": [
    "\"\"\"\n",
    "This Python script performs the following tasks:\n",
    "\n",
    "1. Imports necessary libraries for data manipulation, feature extraction, model training, and evaluation.\n",
    "2. Reads a CSV file named \"train.csv\" and selects two columns: 'comment' and 'reting'.\n",
    "3. Renames the 'reting' column to 'rating'.\n",
    "4. Converts the 'rating' column to numeric values and filters the DataFrame to only include rows with ratings between 1.0 and 5.0.\n",
    "5. Groups the DataFrame by 'rating' and randomly samples an equal number of rows from each group to ensure balanced classes.\n",
    "6. Preprocesses the 'comment' column by converting it to lowercase and removing punctuation and non-alphabetic characters.\n",
    "7. Splits the preprocessed data into training and testing sets using a 90/10 split.\n",
    "8. Trains a LightGBM classifier model on the training data.\n",
    "9. Evaluates the model's accuracy on the testing data.\n",
    "10. Creates and displays a confusion matrix to visualize the model's performance on each class.\n",
    "\"\"\""
   ]
  },
  {
   "cell_type": "markdown",
   "id": "2eee8524",
   "metadata": {
    "id": "iL3MwKYDAiGV",
    "papermill": {
     "duration": 0.006403,
     "end_time": "2024-04-21T15:09:49.510477",
     "exception": false,
     "start_time": "2024-04-21T15:09:49.504074",
     "status": "completed"
    },
    "tags": []
   },
   "source": [
    "#LIBRARIES"
   ]
  },
  {
   "cell_type": "code",
   "execution_count": 2,
   "id": "71e593e1",
   "metadata": {
    "execution": {
     "iopub.execute_input": "2024-04-21T15:09:49.525342Z",
     "iopub.status.busy": "2024-04-21T15:09:49.524673Z",
     "iopub.status.idle": "2024-04-21T15:09:54.834406Z",
     "shell.execute_reply": "2024-04-21T15:09:54.833645Z"
    },
    "id": "knvQHRDbeUXi",
    "papermill": {
     "duration": 5.320265,
     "end_time": "2024-04-21T15:09:54.837226",
     "exception": false,
     "start_time": "2024-04-21T15:09:49.516961",
     "status": "completed"
    },
    "tags": []
   },
   "outputs": [],
   "source": [
    "import pandas as pd\n",
    "import numpy as np\n",
    "from sklearn.feature_extraction.text import CountVectorizer\n",
    "\n",
    "from sklearn.preprocessing import StandardScaler\n",
    "from sklearn.ensemble import RandomForestClassifier\n",
    "import lightgbm as lgb\n",
    "\n",
    "from sklearn.model_selection import train_test_split\n",
    "from sklearn.metrics import accuracy_score, confusion_matrix\n",
    "\n",
    "import matplotlib.pyplot as plt\n",
    "import seaborn as sns\n",
    "from sklearn.metrics import confusion_matrix"
   ]
  },
  {
   "cell_type": "markdown",
   "id": "cdcec84a",
   "metadata": {
    "id": "TsEDalLgAliH",
    "papermill": {
     "duration": 0.006537,
     "end_time": "2024-04-21T15:09:54.850609",
     "exception": false,
     "start_time": "2024-04-21T15:09:54.844072",
     "status": "completed"
    },
    "tags": []
   },
   "source": [
    "#DATA"
   ]
  },
  {
   "cell_type": "code",
   "execution_count": 3,
   "id": "ff47d25f",
   "metadata": {
    "execution": {
     "iopub.execute_input": "2024-04-21T15:09:54.864893Z",
     "iopub.status.busy": "2024-04-21T15:09:54.864253Z",
     "iopub.status.idle": "2024-04-21T15:09:54.873884Z",
     "shell.execute_reply": "2024-04-21T15:09:54.872489Z"
    },
    "papermill": {
     "duration": 0.019195,
     "end_time": "2024-04-21T15:09:54.876174",
     "exception": false,
     "start_time": "2024-04-21T15:09:54.856979",
     "status": "completed"
    },
    "tags": []
   },
   "outputs": [
    {
     "name": "stdout",
     "output_type": "stream",
     "text": [
      "/kaggle/input/market-comments-tonality-analys/train.csv\n"
     ]
    }
   ],
   "source": [
    "# Input data files are available in the read-only \"../input/\" directory\n",
    "# For example, running this (by clicking run or pressing Shift+Enter) will list all files under the input directory\n",
    "\n",
    "import os\n",
    "for dirname, _, filenames in os.walk('/kaggle/input'):\n",
    "    for filename in filenames:\n",
    "        print(os.path.join(dirname, filename))\n",
    "\n",
    "# You can write up to 20GB to the current directory (/kaggle/working/) that gets preserved as output when you create a version using \"Save & Run All\" \n",
    "# You can also write temporary files to /kaggle/temp/, but they won't be saved outside of the current session\n"
   ]
  },
  {
   "cell_type": "code",
   "execution_count": 4,
   "id": "15046a75",
   "metadata": {
    "execution": {
     "iopub.execute_input": "2024-04-21T15:09:54.890531Z",
     "iopub.status.busy": "2024-04-21T15:09:54.890049Z",
     "iopub.status.idle": "2024-04-21T15:09:55.166775Z",
     "shell.execute_reply": "2024-04-21T15:09:55.165831Z"
    },
    "id": "j5ujfOnDZg2S",
    "outputId": "d0ae6031-a5b9-48a2-815f-9c14d73624f8",
    "papermill": {
     "duration": 0.286342,
     "end_time": "2024-04-21T15:09:55.169007",
     "exception": false,
     "start_time": "2024-04-21T15:09:54.882665",
     "status": "completed"
    },
    "tags": []
   },
   "outputs": [
    {
     "data": {
      "text/html": [
       "<div>\n",
       "<style scoped>\n",
       "    .dataframe tbody tr th:only-of-type {\n",
       "        vertical-align: middle;\n",
       "    }\n",
       "\n",
       "    .dataframe tbody tr th {\n",
       "        vertical-align: top;\n",
       "    }\n",
       "\n",
       "    .dataframe thead th {\n",
       "        text-align: right;\n",
       "    }\n",
       "</style>\n",
       "<table border=\"1\" class=\"dataframe\">\n",
       "  <thead>\n",
       "    <tr style=\"text-align: right;\">\n",
       "      <th></th>\n",
       "      <th>item_id1</th>\n",
       "      <th>item_id2</th>\n",
       "      <th>brand</th>\n",
       "      <th>user_id</th>\n",
       "      <th>date</th>\n",
       "      <th>comment</th>\n",
       "      <th>reting</th>\n",
       "      <th>negative_comment</th>\n",
       "      <th>positive_comment</th>\n",
       "    </tr>\n",
       "  </thead>\n",
       "  <tbody>\n",
       "    <tr>\n",
       "      <th>0</th>\n",
       "      <td>401</td>\n",
       "      <td>4010201</td>\n",
       "      <td>826</td>\n",
       "      <td>2217</td>\n",
       "      <td>2013-06-28</td>\n",
       "      <td>2,5 года работала и все...устала! Лампочка гор...</td>\n",
       "      <td>2.0</td>\n",
       "      <td>NaN</td>\n",
       "      <td>NaN</td>\n",
       "    </tr>\n",
       "    <tr>\n",
       "      <th>1</th>\n",
       "      <td>403</td>\n",
       "      <td>4030101</td>\n",
       "      <td>1425</td>\n",
       "      <td>1026</td>\n",
       "      <td>2010-07-04</td>\n",
       "      <td>Через 2 месяца после истечении гарантийного ср...</td>\n",
       "      <td>2.0</td>\n",
       "      <td>NaN</td>\n",
       "      <td>NaN</td>\n",
       "    </tr>\n",
       "    <tr>\n",
       "      <th>2</th>\n",
       "      <td>401</td>\n",
       "      <td>4010401</td>\n",
       "      <td>124</td>\n",
       "      <td>2769</td>\n",
       "      <td>2010-05-27</td>\n",
       "      <td>пользуюсь уже три недели. нареканий ни каких н...</td>\n",
       "      <td>4.0</td>\n",
       "      <td>NaN</td>\n",
       "      <td>NaN</td>\n",
       "    </tr>\n",
       "    <tr>\n",
       "      <th>3</th>\n",
       "      <td>203</td>\n",
       "      <td>2030301</td>\n",
       "      <td>93</td>\n",
       "      <td>508</td>\n",
       "      <td>2016-10-11</td>\n",
       "      <td>Ребят этот системный блок подойдёт для игры кс...</td>\n",
       "      <td>5.0</td>\n",
       "      <td>NaN</td>\n",
       "      <td>NaN</td>\n",
       "    </tr>\n",
       "    <tr>\n",
       "      <th>4</th>\n",
       "      <td>205</td>\n",
       "      <td>2050201</td>\n",
       "      <td>656</td>\n",
       "      <td>1049</td>\n",
       "      <td>2010-02-26</td>\n",
       "      <td>я считаю, что яри замечательный телефон! Прият...</td>\n",
       "      <td>5.0</td>\n",
       "      <td>NaN</td>\n",
       "      <td>NaN</td>\n",
       "    </tr>\n",
       "  </tbody>\n",
       "</table>\n",
       "</div>"
      ],
      "text/plain": [
       "   item_id1  item_id2  brand  user_id        date  \\\n",
       "0       401   4010201    826     2217  2013-06-28   \n",
       "1       403   4030101   1425     1026  2010-07-04   \n",
       "2       401   4010401    124     2769  2010-05-27   \n",
       "3       203   2030301     93      508  2016-10-11   \n",
       "4       205   2050201    656     1049  2010-02-26   \n",
       "\n",
       "                                             comment  reting negative_comment  \\\n",
       "0  2,5 года работала и все...устала! Лампочка гор...     2.0              NaN   \n",
       "1  Через 2 месяца после истечении гарантийного ср...     2.0              NaN   \n",
       "2  пользуюсь уже три недели. нареканий ни каких н...     4.0              NaN   \n",
       "3  Ребят этот системный блок подойдёт для игры кс...     5.0              NaN   \n",
       "4  я считаю, что яри замечательный телефон! Прият...     5.0              NaN   \n",
       "\n",
       "  positive_comment  \n",
       "0              NaN  \n",
       "1              NaN  \n",
       "2              NaN  \n",
       "3              NaN  \n",
       "4              NaN  "
      ]
     },
     "execution_count": 4,
     "metadata": {},
     "output_type": "execute_result"
    }
   ],
   "source": [
    "df = pd.read_csv(\"/kaggle/input/market-comments-tonality-analys/train.csv\")\n",
    "df.head()"
   ]
  },
  {
   "cell_type": "markdown",
   "id": "70a06969",
   "metadata": {
    "id": "CX-2xdjjAm9T",
    "papermill": {
     "duration": 0.006705,
     "end_time": "2024-04-21T15:09:55.182789",
     "exception": false,
     "start_time": "2024-04-21T15:09:55.176084",
     "status": "completed"
    },
    "tags": []
   },
   "source": [
    "#DATA CLEANING Part-1"
   ]
  },
  {
   "cell_type": "code",
   "execution_count": 5,
   "id": "f51e9fd1",
   "metadata": {
    "execution": {
     "iopub.execute_input": "2024-04-21T15:09:55.197944Z",
     "iopub.status.busy": "2024-04-21T15:09:55.197613Z",
     "iopub.status.idle": "2024-04-21T15:09:55.222925Z",
     "shell.execute_reply": "2024-04-21T15:09:55.222049Z"
    },
    "id": "gGXia2TPd8Kz",
    "outputId": "f0b21315-becc-4099-b185-d8cfe07005c8",
    "papermill": {
     "duration": 0.03532,
     "end_time": "2024-04-21T15:09:55.224976",
     "exception": false,
     "start_time": "2024-04-21T15:09:55.189656",
     "status": "completed"
    },
    "tags": []
   },
   "outputs": [
    {
     "data": {
      "text/html": [
       "<div>\n",
       "<style scoped>\n",
       "    .dataframe tbody tr th:only-of-type {\n",
       "        vertical-align: middle;\n",
       "    }\n",
       "\n",
       "    .dataframe tbody tr th {\n",
       "        vertical-align: top;\n",
       "    }\n",
       "\n",
       "    .dataframe thead th {\n",
       "        text-align: right;\n",
       "    }\n",
       "</style>\n",
       "<table border=\"1\" class=\"dataframe\">\n",
       "  <thead>\n",
       "    <tr style=\"text-align: right;\">\n",
       "      <th></th>\n",
       "      <th>comment</th>\n",
       "      <th>rating</th>\n",
       "    </tr>\n",
       "  </thead>\n",
       "  <tbody>\n",
       "    <tr>\n",
       "      <th>0</th>\n",
       "      <td>2,5 года работала и все...устала! Лампочка гор...</td>\n",
       "      <td>2.0</td>\n",
       "    </tr>\n",
       "    <tr>\n",
       "      <th>1</th>\n",
       "      <td>Через 2 месяца после истечении гарантийного ср...</td>\n",
       "      <td>2.0</td>\n",
       "    </tr>\n",
       "    <tr>\n",
       "      <th>2</th>\n",
       "      <td>пользуюсь уже три недели. нареканий ни каких н...</td>\n",
       "      <td>4.0</td>\n",
       "    </tr>\n",
       "    <tr>\n",
       "      <th>3</th>\n",
       "      <td>Ребят этот системный блок подойдёт для игры кс...</td>\n",
       "      <td>5.0</td>\n",
       "    </tr>\n",
       "    <tr>\n",
       "      <th>4</th>\n",
       "      <td>я считаю, что яри замечательный телефон! Прият...</td>\n",
       "      <td>5.0</td>\n",
       "    </tr>\n",
       "  </tbody>\n",
       "</table>\n",
       "</div>"
      ],
      "text/plain": [
       "                                             comment  rating\n",
       "0  2,5 года работала и все...устала! Лампочка гор...     2.0\n",
       "1  Через 2 месяца после истечении гарантийного ср...     2.0\n",
       "2  пользуюсь уже три недели. нареканий ни каких н...     4.0\n",
       "3  Ребят этот системный блок подойдёт для игры кс...     5.0\n",
       "4  я считаю, что яри замечательный телефон! Прият...     5.0"
      ]
     },
     "execution_count": 5,
     "metadata": {},
     "output_type": "execute_result"
    }
   ],
   "source": [
    "df_2c = df[['comment','reting']]\n",
    "df_2c = df_2c.rename(columns={'reting':'rating'})\n",
    "\n",
    "df_2c['rating'] = pd.to_numeric(df_2c['rating'], errors='coerce')\n",
    "df_2c = df_2c[df_2c['rating'].isin([1.0, 2.0, 3.0, 4.0, 5.0])]\n",
    "\n",
    "df_2c.head()"
   ]
  },
  {
   "cell_type": "markdown",
   "id": "96f2d4c8",
   "metadata": {
    "id": "DBjoRf9IAtKi",
    "papermill": {
     "duration": 0.007053,
     "end_time": "2024-04-21T15:09:55.239880",
     "exception": false,
     "start_time": "2024-04-21T15:09:55.232827",
     "status": "completed"
    },
    "tags": []
   },
   "source": [
    "#DATA CLEANING Part-2"
   ]
  },
  {
   "cell_type": "code",
   "execution_count": 6,
   "id": "03210ed3",
   "metadata": {
    "execution": {
     "iopub.execute_input": "2024-04-21T15:09:55.255668Z",
     "iopub.status.busy": "2024-04-21T15:09:55.255286Z",
     "iopub.status.idle": "2024-04-21T15:09:55.260472Z",
     "shell.execute_reply": "2024-04-21T15:09:55.259568Z"
    },
    "id": "HSlv_yb1bGDQ",
    "papermill": {
     "duration": 0.015424,
     "end_time": "2024-04-21T15:09:55.262430",
     "exception": false,
     "start_time": "2024-04-21T15:09:55.247006",
     "status": "completed"
    },
    "tags": []
   },
   "outputs": [],
   "source": [
    "df_2c['rating'] = df_2c['rating'].astype(int)"
   ]
  },
  {
   "cell_type": "code",
   "execution_count": 7,
   "id": "49fcbfa5",
   "metadata": {
    "execution": {
     "iopub.execute_input": "2024-04-21T15:09:55.277479Z",
     "iopub.status.busy": "2024-04-21T15:09:55.277218Z",
     "iopub.status.idle": "2024-04-21T15:09:55.287839Z",
     "shell.execute_reply": "2024-04-21T15:09:55.287019Z"
    },
    "id": "wWCOErObbeYk",
    "outputId": "7fc4b085-b8e5-4a3f-8b50-82e4e923b927",
    "papermill": {
     "duration": 0.020334,
     "end_time": "2024-04-21T15:09:55.289820",
     "exception": false,
     "start_time": "2024-04-21T15:09:55.269486",
     "status": "completed"
    },
    "tags": []
   },
   "outputs": [
    {
     "data": {
      "text/plain": [
       "rating\n",
       "5    9211\n",
       "4    2609\n",
       "1    1468\n",
       "3    1245\n",
       "2     854\n",
       "Name: count, dtype: int64"
      ]
     },
     "execution_count": 7,
     "metadata": {},
     "output_type": "execute_result"
    }
   ],
   "source": [
    "df_2c['rating'].value_counts()"
   ]
  },
  {
   "cell_type": "code",
   "execution_count": 8,
   "id": "65c0bd49",
   "metadata": {
    "execution": {
     "iopub.execute_input": "2024-04-21T15:09:55.305945Z",
     "iopub.status.busy": "2024-04-21T15:09:55.305680Z",
     "iopub.status.idle": "2024-04-21T15:09:55.320391Z",
     "shell.execute_reply": "2024-04-21T15:09:55.319564Z"
    },
    "id": "s9iEl4KfcGQ_",
    "outputId": "fd43acb0-b474-49cc-c03f-83d8ba6f6b0a",
    "papermill": {
     "duration": 0.024415,
     "end_time": "2024-04-21T15:09:55.322240",
     "exception": false,
     "start_time": "2024-04-21T15:09:55.297825",
     "status": "completed"
    },
    "tags": []
   },
   "outputs": [
    {
     "data": {
      "text/plain": [
       "rating\n",
       "1    854\n",
       "2    854\n",
       "3    854\n",
       "4    854\n",
       "5    854\n",
       "Name: count, dtype: int64"
      ]
     },
     "execution_count": 8,
     "metadata": {},
     "output_type": "execute_result"
    }
   ],
   "source": [
    "min_count = df_2c['rating'].value_counts().min()\n",
    "df_2c = df_2c.groupby('rating').sample(n=min_count, random_state=42)\n",
    "df_2c['rating'].value_counts()\n"
   ]
  },
  {
   "cell_type": "code",
   "execution_count": 9,
   "id": "58e22de4",
   "metadata": {
    "execution": {
     "iopub.execute_input": "2024-04-21T15:09:55.338397Z",
     "iopub.status.busy": "2024-04-21T15:09:55.337764Z",
     "iopub.status.idle": "2024-04-21T15:09:55.342658Z",
     "shell.execute_reply": "2024-04-21T15:09:55.341844Z"
    },
    "id": "QcxA1vq0c53p",
    "papermill": {
     "duration": 0.014761,
     "end_time": "2024-04-21T15:09:55.344574",
     "exception": false,
     "start_time": "2024-04-21T15:09:55.329813",
     "status": "completed"
    },
    "tags": []
   },
   "outputs": [],
   "source": [
    "df_pre = df_2c.sample(frac=1)"
   ]
  },
  {
   "cell_type": "code",
   "execution_count": 10,
   "id": "3849290a",
   "metadata": {
    "execution": {
     "iopub.execute_input": "2024-04-21T15:09:55.360075Z",
     "iopub.status.busy": "2024-04-21T15:09:55.359831Z",
     "iopub.status.idle": "2024-04-21T15:09:55.368218Z",
     "shell.execute_reply": "2024-04-21T15:09:55.367385Z"
    },
    "id": "Pl7I9oGWdM8V",
    "outputId": "4e1d6c3a-febb-45dd-e8eb-fbfc143ff460",
    "papermill": {
     "duration": 0.0182,
     "end_time": "2024-04-21T15:09:55.370032",
     "exception": false,
     "start_time": "2024-04-21T15:09:55.351832",
     "status": "completed"
    },
    "tags": []
   },
   "outputs": [
    {
     "data": {
      "text/html": [
       "<div>\n",
       "<style scoped>\n",
       "    .dataframe tbody tr th:only-of-type {\n",
       "        vertical-align: middle;\n",
       "    }\n",
       "\n",
       "    .dataframe tbody tr th {\n",
       "        vertical-align: top;\n",
       "    }\n",
       "\n",
       "    .dataframe thead th {\n",
       "        text-align: right;\n",
       "    }\n",
       "</style>\n",
       "<table border=\"1\" class=\"dataframe\">\n",
       "  <thead>\n",
       "    <tr style=\"text-align: right;\">\n",
       "      <th></th>\n",
       "      <th>comment</th>\n",
       "      <th>rating</th>\n",
       "    </tr>\n",
       "  </thead>\n",
       "  <tbody>\n",
       "    <tr>\n",
       "      <th>7626</th>\n",
       "      <td>Был хороший пылесос, пока через месяц после по...</td>\n",
       "      <td>1</td>\n",
       "    </tr>\n",
       "    <tr>\n",
       "      <th>8916</th>\n",
       "      <td>Наушники просто ЧУМОВЫЕ. Приятный басс,четкий ...</td>\n",
       "      <td>5</td>\n",
       "    </tr>\n",
       "    <tr>\n",
       "      <th>3116</th>\n",
       "      <td>Не оправдала себя !!! Сначала очень даже всё у...</td>\n",
       "      <td>2</td>\n",
       "    </tr>\n",
       "    <tr>\n",
       "      <th>7298</th>\n",
       "      <td>Купил это чудо три недели назад. Не верьте что...</td>\n",
       "      <td>1</td>\n",
       "    </tr>\n",
       "    <tr>\n",
       "      <th>4702</th>\n",
       "      <td>Ребят, купила и очень рада!!! Довольна сама и ...</td>\n",
       "      <td>5</td>\n",
       "    </tr>\n",
       "  </tbody>\n",
       "</table>\n",
       "</div>"
      ],
      "text/plain": [
       "                                                comment  rating\n",
       "7626  Был хороший пылесос, пока через месяц после по...       1\n",
       "8916  Наушники просто ЧУМОВЫЕ. Приятный басс,четкий ...       5\n",
       "3116  Не оправдала себя !!! Сначала очень даже всё у...       2\n",
       "7298  Купил это чудо три недели назад. Не верьте что...       1\n",
       "4702  Ребят, купила и очень рада!!! Довольна сама и ...       5"
      ]
     },
     "execution_count": 10,
     "metadata": {},
     "output_type": "execute_result"
    }
   ],
   "source": [
    "df_pre.head()"
   ]
  },
  {
   "cell_type": "markdown",
   "id": "d4b6a6de",
   "metadata": {
    "id": "4tFQ_A6mAyKf",
    "papermill": {
     "duration": 0.007179,
     "end_time": "2024-04-21T15:09:55.384627",
     "exception": false,
     "start_time": "2024-04-21T15:09:55.377448",
     "status": "completed"
    },
    "tags": []
   },
   "source": [
    "#DATA PREPARING"
   ]
  },
  {
   "cell_type": "code",
   "execution_count": 11,
   "id": "f926fe96",
   "metadata": {
    "execution": {
     "iopub.execute_input": "2024-04-21T15:09:55.401383Z",
     "iopub.status.busy": "2024-04-21T15:09:55.400628Z",
     "iopub.status.idle": "2024-04-21T15:09:55.405018Z",
     "shell.execute_reply": "2024-04-21T15:09:55.404141Z"
    },
    "id": "Zulk9XzodZuz",
    "papermill": {
     "duration": 0.014806,
     "end_time": "2024-04-21T15:09:55.406946",
     "exception": false,
     "start_time": "2024-04-21T15:09:55.392140",
     "status": "completed"
    },
    "tags": []
   },
   "outputs": [],
   "source": [
    "x,y=df_pre['comment'],df_pre['rating']"
   ]
  },
  {
   "cell_type": "code",
   "execution_count": 12,
   "id": "4bfd7bb2",
   "metadata": {
    "execution": {
     "iopub.execute_input": "2024-04-21T15:09:55.423561Z",
     "iopub.status.busy": "2024-04-21T15:09:55.422815Z",
     "iopub.status.idle": "2024-04-21T15:09:57.897680Z",
     "shell.execute_reply": "2024-04-21T15:09:57.896650Z"
    },
    "id": "e0oX6vOoeB-H",
    "papermill": {
     "duration": 2.485624,
     "end_time": "2024-04-21T15:09:57.899950",
     "exception": false,
     "start_time": "2024-04-21T15:09:55.414326",
     "status": "completed"
    },
    "tags": []
   },
   "outputs": [],
   "source": [
    "vectorizer = CountVectorizer()\n",
    "x_vec = vectorizer.fit_transform(x)\n",
    "\n",
    "scaler = StandardScaler()\n",
    "x_scaled = scaler.fit_transform(x_vec.toarray())\n"
   ]
  },
  {
   "cell_type": "code",
   "execution_count": 13,
   "id": "94138fe9",
   "metadata": {
    "execution": {
     "iopub.execute_input": "2024-04-21T15:09:57.917399Z",
     "iopub.status.busy": "2024-04-21T15:09:57.916619Z",
     "iopub.status.idle": "2024-04-21T15:09:58.192503Z",
     "shell.execute_reply": "2024-04-21T15:09:58.191480Z"
    },
    "id": "NYFlcWNSeJ3o",
    "papermill": {
     "duration": 0.286889,
     "end_time": "2024-04-21T15:09:58.194840",
     "exception": false,
     "start_time": "2024-04-21T15:09:57.907951",
     "status": "completed"
    },
    "tags": []
   },
   "outputs": [],
   "source": [
    "x_train, x_test, y_train, y_test = train_test_split(x_scaled, y, test_size=0.1, random_state=41)\n"
   ]
  },
  {
   "cell_type": "markdown",
   "id": "175bcf8d",
   "metadata": {
    "id": "YlP9do5SA1zm",
    "papermill": {
     "duration": 0.007416,
     "end_time": "2024-04-21T15:09:58.210407",
     "exception": false,
     "start_time": "2024-04-21T15:09:58.202991",
     "status": "completed"
    },
    "tags": []
   },
   "source": [
    "#MACHINE LEARNING"
   ]
  },
  {
   "cell_type": "code",
   "execution_count": 14,
   "id": "0208ae0c",
   "metadata": {
    "execution": {
     "iopub.execute_input": "2024-04-21T15:09:58.227901Z",
     "iopub.status.busy": "2024-04-21T15:09:58.227084Z",
     "iopub.status.idle": "2024-04-21T15:10:06.760218Z",
     "shell.execute_reply": "2024-04-21T15:10:06.759209Z"
    },
    "id": "fgbqGR5detFc",
    "outputId": "2ffb6bcb-1176-45cb-b5df-8d162be15a32",
    "papermill": {
     "duration": 8.544599,
     "end_time": "2024-04-21T15:10:06.762764",
     "exception": false,
     "start_time": "2024-04-21T15:09:58.218165",
     "status": "completed"
    },
    "tags": []
   },
   "outputs": [
    {
     "name": "stdout",
     "output_type": "stream",
     "text": [
      "[LightGBM] [Info] Auto-choosing row-wise multi-threading, the overhead of testing was 0.017790 seconds.\n",
      "You can set `force_row_wise=true` to remove the overhead.\n",
      "And if memory is not enough, you can set `force_col_wise=true`.\n",
      "[LightGBM] [Info] Total Bins 4376\n",
      "[LightGBM] [Info] Number of data points in the train set: 3843, number of used features: 1075\n",
      "[LightGBM] [Info] Start training from score -1.628616\n",
      "[LightGBM] [Info] Start training from score -1.590876\n",
      "[LightGBM] [Info] Start training from score -1.610219\n",
      "[LightGBM] [Info] Start training from score -1.608918\n",
      "[LightGBM] [Info] Start training from score -1.608918\n",
      "0.4426229508196721\n"
     ]
    }
   ],
   "source": [
    "model_lgb = lgb.LGBMClassifier(random_state=42)\n",
    "model_lgb.fit(x_train, y_train)\n",
    "y_pred_lgb = model_lgb.predict(x_test)\n",
    "print(accuracy_score(y_test, y_pred_lgb))\n"
   ]
  },
  {
   "cell_type": "markdown",
   "id": "d9402ae4",
   "metadata": {
    "id": "x0pmGnNpA5a5",
    "papermill": {
     "duration": 0.007509,
     "end_time": "2024-04-21T15:10:06.778802",
     "exception": false,
     "start_time": "2024-04-21T15:10:06.771293",
     "status": "completed"
    },
    "tags": []
   },
   "source": [
    "#CONFUSION MATRIX"
   ]
  },
  {
   "cell_type": "code",
   "execution_count": 15,
   "id": "b5e01080",
   "metadata": {
    "execution": {
     "iopub.execute_input": "2024-04-21T15:10:06.795434Z",
     "iopub.status.busy": "2024-04-21T15:10:06.795107Z",
     "iopub.status.idle": "2024-04-21T15:10:07.161340Z",
     "shell.execute_reply": "2024-04-21T15:10:07.160326Z"
    },
    "id": "Sloc4jzMg7Ic",
    "outputId": "cc605b37-a171-4c11-ef10-5e51d3c9d1f1",
    "papermill": {
     "duration": 0.377074,
     "end_time": "2024-04-21T15:10:07.163548",
     "exception": false,
     "start_time": "2024-04-21T15:10:06.786474",
     "status": "completed"
    },
    "tags": []
   },
   "outputs": [
    {
     "data": {
      "image/png": "[encoded data removed]",
      "text/plain": [
       "<Figure size 640x480 with 2 Axes>"
      ]
     },
     "metadata": {},
     "output_type": "display_data"
    }
   ],
   "source": [
    "cm = confusion_matrix(y_test, y_pred_lgb)\n",
    "\n",
    "ax = plt.subplot()\n",
    "sns.heatmap(cm, annot=True, ax=ax)\n",
    "\n",
    "ax.set_xlabel('Predicted labels')\n",
    "ax.set_ylabel('True labels')\n",
    "ax.set_title('Confusion Matrix')\n",
    "ax.xaxis.set_ticklabels(['1', '2', '3', '4', '5'])\n",
    "ax.yaxis.set_ticklabels(['1', '2', '3', '4', '5'])\n",
    "\n",
    "plt.show()\n"
   ]
  },
  {
   "cell_type": "code",
   "execution_count": 16,
   "id": "9e9edfa4",
   "metadata": {
    "execution": {
     "iopub.execute_input": "2024-04-21T15:10:07.181740Z",
     "iopub.status.busy": "2024-04-21T15:10:07.181138Z",
     "iopub.status.idle": "2024-04-21T15:10:07.185381Z",
     "shell.execute_reply": "2024-04-21T15:10:07.184469Z"
    },
    "id": "qdaUl3rYF5bf",
    "papermill": {
     "duration": 0.015574,
     "end_time": "2024-04-21T15:10:07.187463",
     "exception": false,
     "start_time": "2024-04-21T15:10:07.171889",
     "status": "completed"
    },
    "tags": []
   },
   "outputs": [],
   "source": [
    "#by Farruhbek Ergashov and Jamshid Axmadov\n",
    "#data - https://www.kaggle.com/datasets/alxmamaev/market-comments-tonality-analys\n"
   ]
  }
 ],
 "metadata": {
  "colab": {
   "provenance": []
  },
  "kaggle": {
   "accelerator": "gpu",
   "dataSources": [
    {
     "datasetId": 11002,
     "sourceId": 15316,
     "sourceType": "datasetVersion"
    }
   ],
   "dockerImageVersionId": 30698,
   "isGpuEnabled": true,
   "isInternetEnabled": true,
   "language": "python",
   "sourceType": "notebook"
  },
  "kernelspec": {
   "display_name": "Python 3",
   "language": "python",
   "name": "python3"
  },
  "language_info": {
   "codemirror_mode": {
    "name": "ipython",
    "version": 3
   },
   "file_extension": ".py",
   "mimetype": "text/x-python",
   "name": "python",
   "nbconvert_exporter": "python",
   "pygments_lexer": "ipython3",
   "version": "3.10.13"
  },
  "papermill": {
   "default_parameters": {},
   "duration": 21.41601,
   "end_time": "2024-04-21T15:10:08.016685",
   "environment_variables": {},
   "exception": null,
   "input_path": "__notebook__.ipynb",
   "output_path": "__notebook__.ipynb",
   "parameters": {},
   "start_time": "2024-04-21T15:09:46.600675",
   "version": "2.5.0"
  }
 },
 "nbformat": 4,
 "nbformat_minor": 5
}
